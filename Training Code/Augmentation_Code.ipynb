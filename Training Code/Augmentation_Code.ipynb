{
 "cells": [
  {
   "cell_type": "code",
   "execution_count": 1,
   "id": "d1fd319e",
   "metadata": {},
   "outputs": [],
   "source": [
    "import numpy as np\n",
    "import imgaug as ia\n",
    "import imgaug.augmenters as iaa\n",
    "import imageio.v2 as imageio"
   ]
  },
  {
   "cell_type": "code",
   "execution_count": 75,
   "id": "a434a037",
   "metadata": {},
   "outputs": [],
   "source": [
    "ia.seed(1)\n",
    "\n",
    "img = imageio.imread(\"./VALID/Jasmine_Leaf_Spot/Jasmine_Leaf_Spot (3).png\") #read you image\n",
    "images = np.array(\n",
    "    [img for _ in range(32)], dtype=np.uint8)  \n",
    "    # 32 means create 32 enhanced images using following methods.\n",
    "\n",
    "seq = iaa.Sequential(\n",
    "    [\n",
    "#         iaa.Fliplr(0.5), \n",
    "#         iaa.Flipud(1.0), \n",
    "        iaa.Crop(percent=(0, 0.1)),            \n",
    "        iaa.Sometimes(0.5, iaa.GaussianBlur(sigma=(0, 0.5))),        \n",
    "        iaa.contrast.LinearContrast((0.75, 1.5)),         \n",
    "        iaa.AdditiveGaussianNoise(\n",
    "            loc=0, scale=(0.0, 0.05 * 255), per_channel=0.5),    \n",
    "        iaa.Multiply((0.8, 1.2), per_channel=0.2),\n",
    "        iaa.Affine(\n",
    "            scale={\n",
    "                \"x\": (0.8, 1.2),\n",
    "                \"y\": (0.8, 1.2)\n",
    "            },\n",
    "            translate_percent={\n",
    "                \"x\": (-0.2, 0.2),\n",
    "                \"y\": (-0.2, 0.2)\n",
    "            },\n",
    "            rotate=(-25, 25),\n",
    "            shear=(-8, 8))\n",
    "    ],\n",
    "    random_order=True)  # apply augmenters in random order\n",
    "\n",
    "images_aug = seq.augment_images(images)\n",
    "\n",
    "for i in range(32):\n",
    "    imageio.imwrite(f'./VALID/Jasmine_Leaf_Spot/Jasmine_Leaf_Spot({i+65}).png', images_aug[i])  #write all changed images\n"
   ]
  },
  {
   "cell_type": "code",
   "execution_count": 4,
   "id": "b25dcd08",
   "metadata": {},
   "outputs": [
    {
     "ename": "ValueError",
     "evalue": "ImageIO does not generally support reading folders. Limited support may be available via specific plugins. Specify the plugin explicitly using the `plugin` kwarg, e.g. `plugin='DICOM'`",
     "output_type": "error",
     "traceback": [
      "\u001b[1;31m---------------------------------------------------------------------------\u001b[0m",
      "\u001b[1;31mValueError\u001b[0m                                Traceback (most recent call last)",
      "Cell \u001b[1;32mIn[4], line 33\u001b[0m\n\u001b[0;32m     30\u001b[0m \u001b[38;5;66;03m# Iterate over the image files\u001b[39;00m\n\u001b[0;32m     31\u001b[0m \u001b[38;5;28;01mfor\u001b[39;00m image_file \u001b[38;5;129;01min\u001b[39;00m image_files:\n\u001b[0;32m     32\u001b[0m     \u001b[38;5;66;03m# Read the input image\u001b[39;00m\n\u001b[1;32m---> 33\u001b[0m     img \u001b[38;5;241m=\u001b[39m \u001b[43mimageio\u001b[49m\u001b[38;5;241;43m.\u001b[39;49m\u001b[43mimread\u001b[49m\u001b[43m(\u001b[49m\u001b[43mos\u001b[49m\u001b[38;5;241;43m.\u001b[39;49m\u001b[43mpath\u001b[49m\u001b[38;5;241;43m.\u001b[39;49m\u001b[43mjoin\u001b[49m\u001b[43m(\u001b[49m\u001b[43minput_directory\u001b[49m\u001b[43m,\u001b[49m\u001b[43m \u001b[49m\u001b[43mimage_file\u001b[49m\u001b[43m)\u001b[49m\u001b[43m)\u001b[49m\n\u001b[0;32m     34\u001b[0m     \u001b[38;5;66;03m# Create an array of input images\u001b[39;00m\n\u001b[0;32m     35\u001b[0m     images \u001b[38;5;241m=\u001b[39m np\u001b[38;5;241m.\u001b[39marray([img] \u001b[38;5;241m*\u001b[39m \u001b[38;5;241m32\u001b[39m, dtype\u001b[38;5;241m=\u001b[39mnp\u001b[38;5;241m.\u001b[39muint8)\n",
      "File \u001b[1;32m~\\AppData\\Local\\Programs\\Python\\Python311\\Lib\\site-packages\\imageio\\v2.py:226\u001b[0m, in \u001b[0;36mimread\u001b[1;34m(uri, format, **kwargs)\u001b[0m\n\u001b[0;32m    223\u001b[0m imopen_args \u001b[38;5;241m=\u001b[39m decypher_format_arg(\u001b[38;5;28mformat\u001b[39m)\n\u001b[0;32m    224\u001b[0m imopen_args[\u001b[38;5;124m\"\u001b[39m\u001b[38;5;124mlegacy_mode\u001b[39m\u001b[38;5;124m\"\u001b[39m] \u001b[38;5;241m=\u001b[39m \u001b[38;5;28;01mTrue\u001b[39;00m\n\u001b[1;32m--> 226\u001b[0m \u001b[38;5;28;01mwith\u001b[39;00m \u001b[43mimopen\u001b[49m\u001b[43m(\u001b[49m\u001b[43muri\u001b[49m\u001b[43m,\u001b[49m\u001b[43m \u001b[49m\u001b[38;5;124;43m\"\u001b[39;49m\u001b[38;5;124;43mri\u001b[39;49m\u001b[38;5;124;43m\"\u001b[39;49m\u001b[43m,\u001b[49m\u001b[43m \u001b[49m\u001b[38;5;241;43m*\u001b[39;49m\u001b[38;5;241;43m*\u001b[39;49m\u001b[43mimopen_args\u001b[49m\u001b[43m)\u001b[49m \u001b[38;5;28;01mas\u001b[39;00m file:\n\u001b[0;32m    227\u001b[0m     result \u001b[38;5;241m=\u001b[39m file\u001b[38;5;241m.\u001b[39mread(index\u001b[38;5;241m=\u001b[39m\u001b[38;5;241m0\u001b[39m, \u001b[38;5;241m*\u001b[39m\u001b[38;5;241m*\u001b[39mkwargs)\n\u001b[0;32m    229\u001b[0m \u001b[38;5;28;01mreturn\u001b[39;00m result\n",
      "File \u001b[1;32m~\\AppData\\Local\\Programs\\Python\\Python311\\Lib\\site-packages\\imageio\\core\\imopen.py:235\u001b[0m, in \u001b[0;36mimopen\u001b[1;34m(uri, io_mode, plugin, extension, format_hint, legacy_mode, **kwargs)\u001b[0m\n\u001b[0;32m    229\u001b[0m     err_type \u001b[38;5;241m=\u001b[39m \u001b[38;5;167;01mValueError\u001b[39;00m \u001b[38;5;28;01mif\u001b[39;00m legacy_mode \u001b[38;5;28;01melse\u001b[39;00m \u001b[38;5;167;01mIOError\u001b[39;00m\n\u001b[0;32m    230\u001b[0m     err_msg \u001b[38;5;241m=\u001b[39m (\n\u001b[0;32m    231\u001b[0m         \u001b[38;5;124m\"\u001b[39m\u001b[38;5;124mImageIO does not generally support reading folders. \u001b[39m\u001b[38;5;124m\"\u001b[39m\n\u001b[0;32m    232\u001b[0m         \u001b[38;5;124m\"\u001b[39m\u001b[38;5;124mLimited support may be available via specific plugins. \u001b[39m\u001b[38;5;124m\"\u001b[39m\n\u001b[0;32m    233\u001b[0m         \u001b[38;5;124m\"\u001b[39m\u001b[38;5;124mSpecify the plugin explicitly using the `plugin` kwarg, e.g. `plugin=\u001b[39m\u001b[38;5;124m'\u001b[39m\u001b[38;5;124mDICOM\u001b[39m\u001b[38;5;124m'\u001b[39m\u001b[38;5;124m`\u001b[39m\u001b[38;5;124m\"\u001b[39m\n\u001b[0;32m    234\u001b[0m     )\n\u001b[1;32m--> 235\u001b[0m     \u001b[38;5;28;01mraise\u001b[39;00m err_type(err_msg)\n\u001b[0;32m    237\u001b[0m \u001b[38;5;66;03m# close the current request here and use fresh/new ones while trying each\u001b[39;00m\n\u001b[0;32m    238\u001b[0m \u001b[38;5;66;03m# plugin This is slow (means potentially reopening a resource several\u001b[39;00m\n\u001b[0;32m    239\u001b[0m \u001b[38;5;66;03m# times), but should only happen rarely because this is the fallback if all\u001b[39;00m\n\u001b[0;32m    240\u001b[0m \u001b[38;5;66;03m# else fails.\u001b[39;00m\n\u001b[0;32m    241\u001b[0m request\u001b[38;5;241m.\u001b[39mfinish()\n",
      "\u001b[1;31mValueError\u001b[0m: ImageIO does not generally support reading folders. Limited support may be available via specific plugins. Specify the plugin explicitly using the `plugin` kwarg, e.g. `plugin='DICOM'`"
     ]
    }
   ],
   "source": [
    "import imageio.v2 as imageio\n",
    "import numpy as np\n",
    "import os\n",
    "from imgaug import augmenters as iaa\n",
    "\n",
    "# Set the path to the directory containing the input images\n",
    "input_directory = \"./train/\"\n",
    "# Set the path to the directory where augmented images will be saved\n",
    "output_directory = \"./train/Powdery mildew/\"\n",
    "\n",
    "# Get a list of image file names in the input directory\n",
    "image_files = os.listdir(input_directory)\n",
    "\n",
    "# Define the augmentation sequence\n",
    "seq = iaa.Sequential([\n",
    "    iaa.Fliplr(0.5),\n",
    "    iaa.Flipud(1.0),\n",
    "    iaa.Crop(percent=(0, 0.1)),\n",
    "    iaa.Sometimes(0.5, iaa.GaussianBlur(sigma=(0, 0.5))),\n",
    "    iaa.contrast.LinearContrast((0.75, 1.5)),\n",
    "    iaa.AdditiveGaussianNoise(loc=0, scale=(0.0, 0.05 * 255), per_channel=0.5),\n",
    "    iaa.Multiply((0.8, 1.2), per_channel=0.2),\n",
    "    iaa.Affine(\n",
    "        scale={\"x\": (0.8, 1.2), \"y\": (0.8, 1.2)},\n",
    "        translate_percent={\"x\": (-0.2, 0.2), \"y\": (-0.2, 0.2)},\n",
    "        rotate=(-25, 25),\n",
    "        shear=(-8, 8))\n",
    "], random_order=True)\n",
    "\n",
    "# Iterate over the image files\n",
    "for image_file in image_files:\n",
    "    # Read the input image\n",
    "    img = imageio.imread(os.path.join(input_directory, image_file))\n",
    "    # Create an array of input images\n",
    "    images = np.array([img] * 32, dtype=np.uint8)\n",
    "\n",
    "    # Apply augmentation\n",
    "    images_aug = seq.augment_images(images)\n",
    "\n",
    "    # Save the augmented images with different names\n",
    "    for i, image_aug in enumerate(images_aug):\n",
    "        output_file = f\"{os.path.splitext(image_file)[0]} {i}.png\"\n",
    "        imageio.imwrite(os.path.join(output_directory, output_file), image_aug)\n"
   ]
  }
 ],
 "metadata": {
  "kernelspec": {
   "display_name": "Python 3 (ipykernel)",
   "language": "python",
   "name": "python3"
  },
  "language_info": {
   "codemirror_mode": {
    "name": "ipython",
    "version": 3
   },
   "file_extension": ".py",
   "mimetype": "text/x-python",
   "name": "python",
   "nbconvert_exporter": "python",
   "pygments_lexer": "ipython3",
   "version": "3.11.3"
  }
 },
 "nbformat": 4,
 "nbformat_minor": 5
}
