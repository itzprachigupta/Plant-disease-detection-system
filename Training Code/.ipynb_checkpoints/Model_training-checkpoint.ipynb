{
 "cells": [
  {
   "cell_type": "code",
   "execution_count": 1,
   "id": "4b2580e0",
   "metadata": {
    "slideshow": {
     "slide_type": "-"
    }
   },
   "outputs": [],
   "source": [
    "import tensorflow as tf\n",
    "from tensorflow.keras import models, layers\n",
    "import matplotlib.pyplot as plt\n",
    "import numpy as np\n",
    "from sklearn.metrics import accuracy_score, confusion_matrix\n",
    "from tensorflow.keras.preprocessing.image import ImageDataGenerator"
   ]
  },
  {
   "cell_type": "code",
   "execution_count": 5,
   "id": "bd226e70",
   "metadata": {},
   "outputs": [],
   "source": [
    "# IMAGE_SIZE = 180\n",
    "# BATCH_SIZE=16"
   ]
  },
  {
   "cell_type": "code",
   "execution_count": 38,
   "id": "499244a4",
   "metadata": {},
   "outputs": [
    {
     "name": "stdout",
     "output_type": "stream",
     "text": [
      "Found 7040 images belonging to 24 classes.\n"
     ]
    }
   ],
   "source": [
    "from keras.applications.vgg19 import VGG19, preprocess_input, decode_predictions\n",
    "train_datagen = ImageDataGenerator(zoom_range=0.2, \n",
    "                                   shear_range= 0.3, \n",
    "                                   horizontal_flip= True, \n",
    "                                   preprocessing_function= preprocess_input)\n",
    "\n",
    "train_generator= train_datagen.flow_from_directory(\"./TRAIN\", \n",
    "                                          target_size=(180,180), \n",
    "                                          batch_size=16)"
   ]
  },
  {
   "cell_type": "code",
   "execution_count": 7,
   "id": "df76bd51",
   "metadata": {},
   "outputs": [],
   "source": [
    "trainImages = 7072"
   ]
  },
  {
   "cell_type": "code",
   "execution_count": 8,
   "id": "fe7747f7",
   "metadata": {},
   "outputs": [
    {
     "data": {
      "text/plain": [
       "{'Anthurium_Bacterial_Blight': 0,\n",
       " 'Anthurium_Fresh_Leaf': 1,\n",
       " 'Anthurium_Leaf_Spot': 2,\n",
       " 'Gerbera_Fresh_Leaf': 3,\n",
       " 'Gerbera_Leaf_Blight': 4,\n",
       " 'Gerbera_Leaf_Spot': 5,\n",
       " 'Gerbera_Powdery_Mildew': 6,\n",
       " 'Gladiolus_Fresh_Leaf': 7,\n",
       " 'Gladiolus_Leaf_Spot': 8,\n",
       " 'Gladiolus_Rust': 9,\n",
       " 'Jasmine_Fresh_Leaf': 10,\n",
       " 'Jasmine_Leaf_Spot': 11,\n",
       " 'Marigold_Fresh_Leaf': 12,\n",
       " 'Marigold_Leaf_Spot': 13,\n",
       " 'Orchid_Black_Spot': 14,\n",
       " 'Orchid_Fresh_Leaf': 15,\n",
       " 'Orchid_Sun_Burn': 16,\n",
       " 'Orchid_Yellow_Leaf': 17,\n",
       " 'Rose_Black_Spot': 18,\n",
       " 'Rose_Downy_mildew': 19,\n",
       " 'Rose_Fresh_Leaf': 20,\n",
       " 'Tuberose_Fresh_Leaf': 21,\n",
       " 'Tuberose_Leaf_blight': 22,\n",
       " 'Tuberose_Leaf_spot': 23}"
      ]
     },
     "execution_count": 8,
     "metadata": {},
     "output_type": "execute_result"
    }
   ],
   "source": [
    "train_generator.class_indices"
   ]
  },
  {
   "cell_type": "code",
   "execution_count": 9,
   "id": "67dc9966",
   "metadata": {},
   "outputs": [
    {
     "data": {
      "text/plain": [
       "['Anthurium_Bacterial_Blight',\n",
       " 'Anthurium_Fresh_Leaf',\n",
       " 'Anthurium_Leaf_Spot',\n",
       " 'Gerbera_Fresh_Leaf',\n",
       " 'Gerbera_Leaf_Blight',\n",
       " 'Gerbera_Leaf_Spot',\n",
       " 'Gerbera_Powdery_Mildew',\n",
       " 'Gladiolus_Fresh_Leaf',\n",
       " 'Gladiolus_Leaf_Spot',\n",
       " 'Gladiolus_Rust',\n",
       " 'Jasmine_Fresh_Leaf',\n",
       " 'Jasmine_Leaf_Spot',\n",
       " 'Marigold_Fresh_Leaf',\n",
       " 'Marigold_Leaf_Spot',\n",
       " 'Orchid_Black_Spot',\n",
       " 'Orchid_Fresh_Leaf',\n",
       " 'Orchid_Sun_Burn',\n",
       " 'Orchid_Yellow_Leaf',\n",
       " 'Rose_Black_Spot',\n",
       " 'Rose_Downy_mildew',\n",
       " 'Rose_Fresh_Leaf',\n",
       " 'Tuberose_Fresh_Leaf',\n",
       " 'Tuberose_Leaf_blight',\n",
       " 'Tuberose_Leaf_spot']"
      ]
     },
     "execution_count": 9,
     "metadata": {},
     "output_type": "execute_result"
    }
   ],
   "source": [
    "class_names = list(train_generator.class_indices.keys())\n",
    "class_names"
   ]
  },
  {
   "cell_type": "code",
   "execution_count": 10,
   "id": "e0eb8919",
   "metadata": {},
   "outputs": [
    {
     "name": "stdout",
     "output_type": "stream",
     "text": [
      "[[[0.10844135 0.1837588  0.08665728]\n",
      "  [0.5607937  0.56084746 0.50405496]\n",
      "  [1.2373263  1.1789153  1.1191595 ]\n",
      "  ...\n",
      "  [0.99140245 0.9681975  0.83583647]\n",
      "  [0.9896314  0.9669925  0.8326948 ]\n",
      "  [0.9998802  0.97351444 0.83642167]]\n",
      "\n",
      " [[0.04415356 0.13251492 0.02702803]\n",
      "  [0.42422977 0.43547425 0.3795625 ]\n",
      "  [1.2335603  1.1786945  1.1173253 ]\n",
      "  ...\n",
      "  [1.0399745  0.9990289  0.8510014 ]\n",
      "  [1.0502234  1.005551   0.8547282 ]\n",
      "  [1.0613987  1.0204124  0.858455  ]]\n",
      "\n",
      " [[0.05198448 0.1482384  0.02320492]\n",
      "  [0.359942   0.38423038 0.31993327]\n",
      "  [1.0965995  1.052914   0.9924765 ]\n",
      "  ...\n",
      "  [1.105138   1.0787314  0.87303483]\n",
      "  [1.1163183  1.0936388  0.8767616 ]\n",
      "  [1.1181668  1.0975171  0.87539816]]\n",
      "\n",
      " ...\n",
      "\n",
      " [[0.7387749  0.8711563  0.42203584]\n",
      "  [0.7400168  0.87459505 0.42258108]\n",
      "  [0.7064754  0.84664375 0.4002201 ]\n",
      "  ...\n",
      "  [0.82173264 0.81055945 0.40172324]\n",
      "  [0.8575932  0.8436096  0.43488574]\n",
      "  [0.90545124 0.8775183  0.4903263 ]]\n",
      "\n",
      " [[0.57525766 0.7372957  0.3127416 ]\n",
      "  [0.5417416  0.7093343  0.29041627]\n",
      "  [0.5128587  0.67951965 0.27457723]\n",
      "  ...\n",
      "  [0.8161424  0.8049692  0.39706466]\n",
      "  [0.84920776 0.8380193  0.424637  ]\n",
      "  [0.89878297 0.87106943 0.48522884]]\n",
      "\n",
      " [[0.3998657  0.5628817  0.2126133 ]\n",
      "  [0.37098274 0.53306705 0.19677429]\n",
      "  [0.36699796 0.5229992  0.19553073]\n",
      "  ...\n",
      "  [0.79443306 0.7841082  0.38986102]\n",
      "  [0.84360224 0.83242905 0.4199479 ]\n",
      "  [0.8903976  0.8654792  0.47498006]]]\n"
     ]
    }
   ],
   "source": [
    "count=0\n",
    "for image_batch, label_batch in train_generator:\n",
    "    print(image_batch[0])\n",
    "    break"
   ]
  },
  {
   "cell_type": "code",
   "execution_count": 41,
   "id": "f97777dd",
   "metadata": {},
   "outputs": [
    {
     "name": "stdout",
     "output_type": "stream",
     "text": [
      "Found 1931 images belonging to 24 classes.\n"
     ]
    }
   ],
   "source": [
    "val_datagen = ImageDataGenerator(preprocessing_function=preprocess_input)\n",
    "\n",
    "validation_generator = val_datagen.flow_from_directory(directory= \"./VALID\", \n",
    "                                          target_size=(180,180), \n",
    "                                          batch_size=16 )"
   ]
  },
  {
   "cell_type": "code",
   "execution_count": 42,
   "id": "868fc728",
   "metadata": {},
   "outputs": [],
   "source": [
    "validImages = 1931"
   ]
  },
  {
   "cell_type": "code",
   "execution_count": 43,
   "id": "4705ab10",
   "metadata": {},
   "outputs": [
    {
     "name": "stdout",
     "output_type": "stream",
     "text": [
      "Found 4687 images belonging to 24 classes.\n"
     ]
    }
   ],
   "source": [
    "test_datagen = ImageDataGenerator(preprocessing_function=preprocess_input)\n",
    "\n",
    "test_generator = val_datagen.flow_from_directory(directory= \"./TEST\", \n",
    "                                          target_size=(180,180), \n",
    "                                          batch_size=16 )"
   ]
  },
  {
   "cell_type": "code",
   "execution_count": 44,
   "id": "a894367e",
   "metadata": {},
   "outputs": [
    {
     "name": "stdout",
     "output_type": "stream",
     "text": [
      "[[[-48.939003     4.2210007  -29.68      ]\n",
      "  [-43.939003     8.221001   -27.68      ]\n",
      "  [-37.939003     9.221001   -25.68      ]\n",
      "  ...\n",
      "  [-56.939003     8.221001   -26.68      ]\n",
      "  [-65.939       29.221      -20.68      ]\n",
      "  [-70.939       30.221      -22.68      ]]\n",
      "\n",
      " [[-49.939003     0.22100067 -33.68      ]\n",
      "  [-46.939003     3.2210007  -30.68      ]\n",
      "  [-51.939003     0.22100067 -36.68      ]\n",
      "  ...\n",
      "  [-57.939003     8.221001   -26.68      ]\n",
      "  [-61.939003    30.221      -21.68      ]\n",
      "  [-72.939       30.221      -23.68      ]]\n",
      "\n",
      " [[-74.939      -18.779      -57.68      ]\n",
      "  [-70.939      -12.778999   -53.68      ]\n",
      "  [-71.939      -13.778999   -55.68      ]\n",
      "  ...\n",
      "  [-49.939003    12.221001   -22.68      ]\n",
      "  [-42.939003    36.221       -8.68      ]\n",
      "  [-66.939       35.221      -19.68      ]]\n",
      "\n",
      " ...\n",
      "\n",
      " [[ 33.060997    44.221       14.32      ]\n",
      "  [ 33.060997    43.221       13.32      ]\n",
      "  [ 33.060997    43.221       11.32      ]\n",
      "  ...\n",
      "  [  7.060997    23.221        9.32      ]\n",
      "  [ 14.060997    29.221       15.32      ]\n",
      "  [ 18.060997    32.221       17.32      ]]\n",
      "\n",
      " [[ 44.060997    52.221       25.32      ]\n",
      "  [ 42.060997    50.221       20.32      ]\n",
      "  [ 40.060997    47.221       17.32      ]\n",
      "  ...\n",
      "  [  4.060997    20.221        4.3199997 ]\n",
      "  [ 11.060997    27.221       11.32      ]\n",
      "  [ 19.060997    31.221       18.32      ]]\n",
      "\n",
      " [[ 51.060997    58.221       33.32      ]\n",
      "  [ 50.060997    56.221       29.32      ]\n",
      "  [ 50.060997    56.221       27.32      ]\n",
      "  ...\n",
      "  [  6.060997    20.221        6.3199997 ]\n",
      "  [ 11.060997    25.221        9.32      ]\n",
      "  [ 18.060997    30.221       17.32      ]]]\n"
     ]
    }
   ],
   "source": [
    "for image_batch, label_batch in test_generator:\n",
    "    print(image_batch[0])\n",
    "    break"
   ]
  },
  {
   "cell_type": "markdown",
   "id": "13978c50",
   "metadata": {},
   "source": [
    "# Building the model"
   ]
  },
  {
   "cell_type": "code",
   "execution_count": 45,
   "id": "d4e211cd",
   "metadata": {},
   "outputs": [],
   "source": [
    "# #BUILDING THE MODEL \n",
    "# input_Shape = (IMAGE_SIZE, IMAGE_SIZE, 3)\n",
    "# n_classes = 24\n",
    "\n",
    "# model = models.Sequential([\n",
    "#     layers.InputLayer(input_shape=input_Shape),\n",
    "#     layers.Conv2D(32, kernel_size = (3,3), activation='relu'),\n",
    "#     layers.MaxPooling2D((2, 2)),\n",
    "#     layers.Conv2D(64,  kernel_size = (3,3), activation='relu'),\n",
    "#     layers.MaxPooling2D((2, 2)),\n",
    "#     layers.Conv2D(64,  kernel_size = (3,3), activation='relu'),\n",
    "#     layers.MaxPooling2D((2, 2)),\n",
    "#     layers.Conv2D(64, (3, 3), activation='relu'),\n",
    "#     layers.MaxPooling2D((2, 2)),\n",
    "#     layers.Conv2D(64, (3, 3), activation='relu'),\n",
    "#     layers.MaxPooling2D((2, 2)),\n",
    "#     layers.Conv2D(64, (3, 3), activation='relu'),\n",
    "#     layers.MaxPooling2D((2, 2)),\n",
    "#     layers.Flatten(),\n",
    "#     layers.Dense(64, activation='relu'),\n",
    "#     layers.Dense(n_classes, activation='softmax'),\n",
    "# ])"
   ]
  },
  {
   "cell_type": "code",
   "execution_count": 46,
   "id": "74a735bf",
   "metadata": {},
   "outputs": [],
   "source": [
    "# model.summary()"
   ]
  },
  {
   "cell_type": "markdown",
   "id": "704424fe",
   "metadata": {},
   "source": [
    "# Compiling the Model\n",
    "We use adam Optimizer, SparseCategoricalCrossentropy for losses, accuracy as a metric"
   ]
  },
  {
   "cell_type": "code",
   "execution_count": 47,
   "id": "e7c5f147",
   "metadata": {},
   "outputs": [],
   "source": [
    "# model.compile(\n",
    "#     optimizer='adam',\n",
    "#     loss=tf.keras.losses.SparseCategoricalCrossentropy(from_logits=False),\n",
    "#     metrics=['accuracy']\n",
    "# )"
   ]
  },
  {
   "cell_type": "code",
   "execution_count": 48,
   "id": "92dc5e36",
   "metadata": {},
   "outputs": [],
   "source": [
    "# SPE = trainImages/32\n",
    "# SPE"
   ]
  },
  {
   "cell_type": "code",
   "execution_count": 49,
   "id": "2a0ec412",
   "metadata": {},
   "outputs": [],
   "source": [
    "# VS = validImages/32\n",
    "# VS"
   ]
  },
  {
   "cell_type": "code",
   "execution_count": 50,
   "id": "7f58cbae",
   "metadata": {
    "scrolled": true
   },
   "outputs": [],
   "source": [
    "# history = model.fit(\n",
    "#    train_generator,\n",
    "#    steps_per_epoch=SPE,\n",
    "#    batch_size=32,\n",
    "#     validation_data=validation_generator,\n",
    "#     validation_steps=VS,\n",
    "#     verbose=1,\n",
    "#    epochs=20,\n",
    "# )"
   ]
  },
  {
   "cell_type": "code",
   "execution_count": 51,
   "id": "9e216685",
   "metadata": {},
   "outputs": [],
   "source": [
    "# model.save('../Saved_model/Anthurium_model.h5')"
   ]
  },
  {
   "cell_type": "code",
   "execution_count": 52,
   "id": "1499799d",
   "metadata": {},
   "outputs": [],
   "source": [
    "# scores = model.evaluate(test_generator)"
   ]
  },
  {
   "cell_type": "code",
   "execution_count": 53,
   "id": "974dec73",
   "metadata": {},
   "outputs": [],
   "source": [
    "# scores"
   ]
  },
  {
   "cell_type": "markdown",
   "id": "a2a9fc1d",
   "metadata": {},
   "source": [
    "# Plotting the Accuracy and Loss Curves"
   ]
  },
  {
   "cell_type": "code",
   "execution_count": 54,
   "id": "221d76d8",
   "metadata": {},
   "outputs": [],
   "source": [
    "# load the saved model\n",
    "import numpy as np\n",
    "from tensorflow import keras\n",
    "from tensorflow.keras.preprocessing import image\n",
    "\n",
    "model = keras.models.load_model('./final_model.h5')"
   ]
  },
  {
   "cell_type": "code",
   "execution_count": 55,
   "id": "6c450a3b",
   "metadata": {},
   "outputs": [],
   "source": [
    "# history\n",
    "# history.params\n",
    "# history.history.keys()"
   ]
  },
  {
   "cell_type": "markdown",
   "id": "4eafadd5",
   "metadata": {},
   "source": [
    "### loss, accuracy, val loss etc are a python list containing values of loss, accuracy etc at the end of each epoch"
   ]
  },
  {
   "cell_type": "code",
   "execution_count": 56,
   "id": "d457bbee",
   "metadata": {},
   "outputs": [],
   "source": [
    "# type(history.history['loss'])\n",
    "# len(history.history['loss'])"
   ]
  },
  {
   "cell_type": "code",
   "execution_count": 57,
   "id": "9a3bcabc",
   "metadata": {},
   "outputs": [],
   "source": [
    "# history.history['loss'][:5] # show loss for first 5 epochs"
   ]
  },
  {
   "cell_type": "code",
   "execution_count": 58,
   "id": "fbe54dba",
   "metadata": {},
   "outputs": [],
   "source": [
    "# acc = history.history['accuracy']\n",
    "# val_acc = history.history['val_accuracy']\n",
    "\n",
    "# loss = history.history['loss']\n",
    "# val_loss = history.history['val_loss']"
   ]
  },
  {
   "cell_type": "code",
   "execution_count": 59,
   "id": "a85f9faa",
   "metadata": {},
   "outputs": [],
   "source": [
    "# acc"
   ]
  },
  {
   "cell_type": "code",
   "execution_count": 60,
   "id": "e5be1b3d",
   "metadata": {},
   "outputs": [],
   "source": [
    "# val_acc"
   ]
  },
  {
   "cell_type": "code",
   "execution_count": 61,
   "id": "00079086",
   "metadata": {},
   "outputs": [],
   "source": [
    "# loss"
   ]
  },
  {
   "cell_type": "code",
   "execution_count": 62,
   "id": "21573e5e",
   "metadata": {},
   "outputs": [],
   "source": [
    "# val_loss"
   ]
  },
  {
   "cell_type": "code",
   "execution_count": 64,
   "id": "01e94fa4",
   "metadata": {},
   "outputs": [
    {
     "name": "stdout",
     "output_type": "stream",
     "text": [
      "WARNING:tensorflow:AutoGraph could not transform <function Model.make_predict_function.<locals>.predict_function at 0x000001CC62C76D40> and will run it as-is.\n",
      "Please report this to the TensorFlow team. When filing the bug, set the verbosity to 10 (on Linux, `export AUTOGRAPH_VERBOSITY=10`) and attach the full output.\n",
      "Cause: module 'gast' has no attribute 'Constant'\n",
      "To silence this warning, decorate the function with @tf.autograph.experimental.do_not_convert\n",
      "WARNING: AutoGraph could not transform <function Model.make_predict_function.<locals>.predict_function at 0x000001CC62C76D40> and will run it as-is.\n",
      "Please report this to the TensorFlow team. When filing the bug, set the verbosity to 10 (on Linux, `export AUTOGRAPH_VERBOSITY=10`) and attach the full output.\n",
      "Cause: module 'gast' has no attribute 'Constant'\n",
      "To silence this warning, decorate the function with @tf.autograph.experimental.do_not_convert\n",
      "293/293 [==============================] - 1532s 5s/step\n"
     ]
    }
   ],
   "source": [
    "# Prediction scores\n",
    "test_generator.reset()\n",
    "predictions = model.predict(test_generator)\n",
    "predicted_classes = np.argmax(predictions, axis=1)"
   ]
  },
  {
   "cell_type": "code",
   "execution_count": null,
   "id": "ed2c53ea",
   "metadata": {},
   "outputs": [],
   "source": [
    "# Accuracy score\n",
    "test_loss, test_accuracy = model.evaluate(test_generator, verbose=1)\n",
    "print(\"Test Accuracy:\", test_accuracy)"
   ]
  },
  {
   "cell_type": "code",
   "execution_count": 66,
   "id": "5a1ff918",
   "metadata": {},
   "outputs": [
    {
     "name": "stdout",
     "output_type": "stream",
     "text": [
      "Confusion Matrix:\n",
      " [[  0   0   0   0   0   1   0   0   0   0   0   0   0   0   3   0   4   1\n",
      "    9   8   3   1   2   1]\n",
      " [  0   0   0   0   0   1   0   1   1   0   0   1   0   0   3   2   2   1\n",
      "    3   8   6   1   0   3]\n",
      " [  1   1   0   0   0   0   1   0   0   1   0   0   1   0   2   0   1   0\n",
      "    7   4   4   0   1   1]\n",
      " [  1   0   0   0   0   0   0   1   0   0   0   0   0   0   2   1   0   2\n",
      "    5   3   2   2   1   0]\n",
      " [  0   0   0   0   0   1   0   0   0   1   0   0   1   2   2   1   3   0\n",
      "    3   5   2   0   0   2]\n",
      " [  0   1   1   0   0   0   1   0   0   0   0   0   0   0   2   0   1   1\n",
      "   10   5   4   2   1   2]\n",
      " [  0   0   0   0   0   0   0   1   0   0   1   2   1   0   0   0   1   3\n",
      "    7   8   5   1   3   1]\n",
      " [  2   1   0   1   1   0   0   0   1   0   0   2   2   0   4   2   3   0\n",
      "   14  10   9   2   3   3]\n",
      " [  0   0   0   0   0   0   0   2   1   0   0   0   0   0   2   0   1   1\n",
      "   15   6   7   1   3   4]\n",
      " [  0   0   0   1   1   0   0   1   1   2   3   4   1   0   2   3   1   1\n",
      "   11  17   4   2   7   4]\n",
      " [  0   1   1   0   1   0   0   1   3   0   0   2   0   0   2   1   6   2\n",
      "   14  11  13   0   5   3]\n",
      " [  1   3   2   2   3   3   1   2   4   3   0   4   1   3  13   6   6   5\n",
      "   29  25  29   5   7   8]\n",
      " [  0   0   0   0   0   0   0   0   0   0   1   1   0   0   1   0   2   0\n",
      "   12   4  11   4   2   0]\n",
      " [  0   0   0   0   0   0   0   1   0   0   0   1   0   0   1   0   0   0\n",
      "    4   4   6   0   2   1]\n",
      " [  1   5   3   1   0   1   4   5   5   5   3  16   1   4  13   2   9  11\n",
      "   77  61  62   4  21  15]\n",
      " [  0   2   0   1   0   3   2   1   2   5   0   4   1   1   4   4   0   4\n",
      "   29  18  23   4   7   7]\n",
      " [  2   0   1   0   1   0   0   2   0   2   2   4   0   1   9   3   3   3\n",
      "   33  29  19   7   5   6]\n",
      " [  3   0   1   0   1   1   3   2   1   0   1   8   2   1  13   5   6   6\n",
      "   37  29  22   7  12  10]\n",
      " [  5  11   6   6   1   7   7   8   5  10   7  20   9   1  72  25  29  33\n",
      "  187 161 142  26  46  56]\n",
      " [  8  11   4   4   2   4   8  10   8  15  15  43   6   3  61  22  28  29\n",
      "  213 159 140  28  38  45]\n",
      " [  5  10  10   0   6   8   5  10   9  15  10  30  11   5  75  19  20  28\n",
      "  198 146 139  31  37  38]\n",
      " [  0   0   0   1   3   4   1   0   5   3   3   3   0   1   7   5   5   8\n",
      "   31  39  30   2   6   8]\n",
      " [  2   2   1   1   1   1   2   2   3   4   3   6   1   1  11   3   1  11\n",
      "   43  37  39   2  14   7]\n",
      " [  2   1   3   0   2   2   4   5   3   2   4   8   4   1  25   6   7   9\n",
      "   63  29  46   8  16  14]]\n",
      "Precision: 0.11734173808429421\n",
      "Recall: 0.11691913804139108\n",
      "F1 Score: 0.1166065145536376\n"
     ]
    }
   ],
   "source": [
    "# Confusion matrix\n",
    "from sklearn.metrics import precision_recall_fscore_support\n",
    "true_classes = test_generator.classes\n",
    "class_labels = list(test_generator.class_indices.keys())\n",
    "confusion_mtx = confusion_matrix(true_classes, predicted_classes)\n",
    "precision, recall, fscore, _ = precision_recall_fscore_support(true_classes, predicted_classes, average='weighted')\n",
    "print(\"Confusion Matrix:\\n\", confusion_mtx)\n",
    "print(\"Precision:\", precision)\n",
    "print(\"Recall:\", recall)\n",
    "print(\"F1 Score:\", fscore)"
   ]
  },
  {
   "cell_type": "code",
   "execution_count": 67,
   "id": "339801ff",
   "metadata": {},
   "outputs": [],
   "source": [
    "# EPOCHS = 20\n",
    "\n",
    "# # Plot Training and Validation Accuracy\n",
    "# plt.figure(figsize=(12, 6))\n",
    "# plt.subplot(1, 2, 2)\n",
    "# plt.plot(range(EPOCHS), acc, label='Training Accuracy')\n",
    "# plt.plot(range(EPOCHS), val_acc, label='Validation Accuracy')\n",
    "# plt.xlabel('Epoch')\n",
    "# plt.ylabel('Accuracy')\n",
    "# plt.title(\"Anthurium training and validation accuracy\")\n",
    "# plt.legend()\n",
    "\n",
    "# plt.tight_layout()\n",
    "# plt.show()"
   ]
  },
  {
   "cell_type": "code",
   "execution_count": 68,
   "id": "6fbac672",
   "metadata": {},
   "outputs": [],
   "source": [
    "# EPOCHS = 20\n",
    "\n",
    "# # Plot Training and Validation Accuracy\n",
    "# plt.figure(figsize=(12, 6))\n",
    "# plt.subplot(1, 2, 2)\n",
    "# plt.plot(range(EPOCHS), loss, label='Training Loss')\n",
    "# plt.plot(range(EPOCHS), val_loss, label='Validation loss')\n",
    "# plt.xlabel('Epoch')\n",
    "# plt.ylabel('Loss')\n",
    "# plt.title(\"Anthurium training and validation loss\")\n",
    "# plt.legend()\n",
    "\n",
    "# plt.tight_layout()\n",
    "# plt.show()"
   ]
  },
  {
   "cell_type": "markdown",
   "id": "f7c2813b",
   "metadata": {},
   "source": [
    "# Run prediction on a sample image"
   ]
  },
  {
   "cell_type": "code",
   "execution_count": 69,
   "id": "417e8ec6",
   "metadata": {},
   "outputs": [
    {
     "ename": "TypeError",
     "evalue": "only size-1 arrays can be converted to Python scalars",
     "output_type": "error",
     "traceback": [
      "\u001b[1;31m---------------------------------------------------------------------------\u001b[0m",
      "\u001b[1;31mTypeError\u001b[0m                                 Traceback (most recent call last)",
      "Cell \u001b[1;32mIn[69], line 6\u001b[0m\n\u001b[0;32m      4\u001b[0m \u001b[38;5;28;01mfor\u001b[39;00m image_batch, label_batch \u001b[38;5;129;01min\u001b[39;00m test_generator:\n\u001b[0;32m      5\u001b[0m     first_image \u001b[38;5;241m=\u001b[39m image_batch[\u001b[38;5;241m0\u001b[39m]\n\u001b[1;32m----> 6\u001b[0m     first_label \u001b[38;5;241m=\u001b[39m \u001b[38;5;28;43mint\u001b[39;49m\u001b[43m(\u001b[49m\u001b[43mlabel_batch\u001b[49m\u001b[43m[\u001b[49m\u001b[38;5;241;43m0\u001b[39;49m\u001b[43m]\u001b[49m\u001b[43m)\u001b[49m\n\u001b[0;32m      8\u001b[0m     \u001b[38;5;28mprint\u001b[39m(\u001b[38;5;124m\"\u001b[39m\u001b[38;5;124mfirst image to predict\u001b[39m\u001b[38;5;124m\"\u001b[39m)\n\u001b[0;32m      9\u001b[0m     plt\u001b[38;5;241m.\u001b[39mimshow(first_image)\n",
      "\u001b[1;31mTypeError\u001b[0m: only size-1 arrays can be converted to Python scalars"
     ]
    }
   ],
   "source": [
    "import numpy as np\n",
    "\n",
    "\n",
    "for image_batch, label_batch in test_generator:\n",
    "    first_image = image_batch[0]\n",
    "    first_label = int(label_batch[0])\n",
    "    \n",
    "    print(\"first image to predict\")\n",
    "    plt.imshow(first_image)\n",
    "    print(\"actual label:\",class_names[first_label])\n",
    "    \n",
    "    batch_prediction = model.predict(image_batch)\n",
    "    print(\"predicted label:\",class_names[np.argmax(batch_prediction[0])])\n",
    "    \n",
    "    break"
   ]
  },
  {
   "cell_type": "markdown",
   "id": "8d269b8b",
   "metadata": {},
   "source": [
    "# function for inference"
   ]
  },
  {
   "cell_type": "code",
   "execution_count": 70,
   "id": "5c8dcc08",
   "metadata": {},
   "outputs": [],
   "source": [
    "def predict(model, img):\n",
    "    img_array = tf.keras.preprocessing.image.img_to_array(images[i])\n",
    "    img_array = tf.expand_dims(img_array, 0)\n",
    "\n",
    "    predictions = model.predict(img_array)\n",
    "\n",
    "    predicted_class = class_names[np.argmax(predictions[0])]\n",
    "    confidence = round(100 * (np.max(predictions[0])), 2)\n",
    "    return predicted_class, confidence"
   ]
  },
  {
   "cell_type": "markdown",
   "id": "2a0d9dbe",
   "metadata": {},
   "source": [
    "### Now run inference on few sample images"
   ]
  },
  {
   "cell_type": "code",
   "execution_count": 71,
   "id": "ad53c4f2",
   "metadata": {},
   "outputs": [
    {
     "name": "stderr",
     "output_type": "stream",
     "text": [
      "Clipping input data to the valid range for imshow with RGB data ([0..1] for floats or [0..255] for integers).\n"
     ]
    },
    {
     "name": "stdout",
     "output_type": "stream",
     "text": [
      "1/1 [==============================] - 4s 4s/step\n"
     ]
    },
    {
     "ename": "TypeError",
     "evalue": "only size-1 arrays can be converted to Python scalars",
     "output_type": "error",
     "traceback": [
      "\u001b[1;31m---------------------------------------------------------------------------\u001b[0m",
      "\u001b[1;31mTypeError\u001b[0m                                 Traceback (most recent call last)",
      "Cell \u001b[1;32mIn[71], line 8\u001b[0m\n\u001b[0;32m      5\u001b[0m plt\u001b[38;5;241m.\u001b[39mimshow(images[i])\n\u001b[0;32m      7\u001b[0m predicted_class, confidence \u001b[38;5;241m=\u001b[39m predict(model, images[i])\n\u001b[1;32m----> 8\u001b[0m actual_class \u001b[38;5;241m=\u001b[39m class_names[\u001b[38;5;28;43mint\u001b[39;49m\u001b[43m(\u001b[49m\u001b[43mlabels\u001b[49m\u001b[43m[\u001b[49m\u001b[43mi\u001b[49m\u001b[43m]\u001b[49m\u001b[43m)\u001b[49m] \n\u001b[0;32m     10\u001b[0m plt\u001b[38;5;241m.\u001b[39mtitle(\u001b[38;5;124mf\u001b[39m\u001b[38;5;124m\"\u001b[39m\u001b[38;5;124mActual: \u001b[39m\u001b[38;5;132;01m{\u001b[39;00mactual_class\u001b[38;5;132;01m}\u001b[39;00m\u001b[38;5;124m,\u001b[39m\u001b[38;5;130;01m\\n\u001b[39;00m\u001b[38;5;124m Predicted: \u001b[39m\u001b[38;5;132;01m{\u001b[39;00mpredicted_class\u001b[38;5;132;01m}\u001b[39;00m\u001b[38;5;124m,\u001b[39m\u001b[38;5;130;01m\\n\u001b[39;00m\u001b[38;5;124m Confidence: \u001b[39m\u001b[38;5;132;01m{\u001b[39;00mconfidence\u001b[38;5;132;01m}\u001b[39;00m\u001b[38;5;124m .\u001b[39m\u001b[38;5;124m\"\u001b[39m)\n\u001b[0;32m     12\u001b[0m plt\u001b[38;5;241m.\u001b[39maxis(\u001b[38;5;124m\"\u001b[39m\u001b[38;5;124moff\u001b[39m\u001b[38;5;124m\"\u001b[39m)\n",
      "\u001b[1;31mTypeError\u001b[0m: only size-1 arrays can be converted to Python scalars"
     ]
    },
    {
     "data": {
      "image/png": "[encoded data removed]",
      "text/plain": [
       "<Figure size 1000x1000 with 1 Axes>"
      ]
     },
     "metadata": {},
     "output_type": "display_data"
    }
   ],
   "source": [
    "plt.figure(figsize=(10, 10))\n",
    "for images, labels in test_generator:\n",
    "    for i in range(9):\n",
    "        ax = plt.subplot(3, 3, i + 1)\n",
    "        plt.imshow(images[i])\n",
    "        \n",
    "        predicted_class, confidence = predict(model, images[i])\n",
    "        actual_class = class_names[int(labels[i])] \n",
    "        \n",
    "        plt.title(f\"Actual: {actual_class},\\n Predicted: {predicted_class},\\n Confidence: {confidence} .\")\n",
    "        \n",
    "        plt.axis(\"off\")\n",
    "    break"
   ]
  },
  {
   "cell_type": "code",
   "execution_count": 83,
   "id": "1b75955f",
   "metadata": {},
   "outputs": [],
   "source": [
    "# from keras.preprocessing import load_image\n",
    "from tensorflow.keras.preprocessing import image\n",
    "from tensorflow.keras.utils import img_to_array, load_img\n",
    "from keras.applications.vgg19 import VGG19, preprocess_input, decode_predictions\n",
    "def prediction(path):\n",
    "    img = load_img(path, target_size= (180,180))\n",
    "    i = img_to_array(img)\n",
    "    im = preprocess_input(i)\n",
    "    img = np.expand_dims(im, axis=0)\n",
    "    pred= model.predict(im)\n",
    "    predicted_class = class_names[np.argmax(pred[0])]\n",
    "    confidence = round(100 * (np.max(predictions[0])), 2)\n",
    "    print(f\"The image belongs to {ref(pred)}, and confidence is {confidence}. \")"
   ]
  },
  {
   "cell_type": "code",
   "execution_count": 84,
   "id": "0e30dcfa",
   "metadata": {},
   "outputs": [
    {
     "ename": "InvalidArgumentError",
     "evalue": "Graph execution error:\n\nDetected at node 'model/block1_conv1/Relu' defined at (most recent call last):\n    File \"<frozen runpy>\", line 198, in _run_module_as_main\n    File \"<frozen runpy>\", line 88, in _run_code\n    File \"C:\\Users\\Lenovo\\AppData\\Local\\Programs\\Python\\Python311\\Lib\\site-packages\\ipykernel_launcher.py\", line 17, in <module>\n      app.launch_new_instance()\n    File \"C:\\Users\\Lenovo\\AppData\\Local\\Programs\\Python\\Python311\\Lib\\site-packages\\traitlets\\config\\application.py\", line 1043, in launch_instance\n      app.start()\n    File \"C:\\Users\\Lenovo\\AppData\\Local\\Programs\\Python\\Python311\\Lib\\site-packages\\ipykernel\\kernelapp.py\", line 725, in start\n      self.io_loop.start()\n    File \"C:\\Users\\Lenovo\\AppData\\Local\\Programs\\Python\\Python311\\Lib\\site-packages\\tornado\\platform\\asyncio.py\", line 215, in start\n      self.asyncio_loop.run_forever()\n    File \"C:\\Users\\Lenovo\\AppData\\Local\\Programs\\Python\\Python311\\Lib\\asyncio\\base_events.py\", line 607, in run_forever\n      self._run_once()\n    File \"C:\\Users\\Lenovo\\AppData\\Local\\Programs\\Python\\Python311\\Lib\\asyncio\\base_events.py\", line 1922, in _run_once\n      handle._run()\n    File \"C:\\Users\\Lenovo\\AppData\\Local\\Programs\\Python\\Python311\\Lib\\asyncio\\events.py\", line 80, in _run\n      self._context.run(self._callback, *self._args)\n    File \"C:\\Users\\Lenovo\\AppData\\Local\\Programs\\Python\\Python311\\Lib\\site-packages\\ipykernel\\kernelbase.py\", line 513, in dispatch_queue\n      await self.process_one()\n    File \"C:\\Users\\Lenovo\\AppData\\Local\\Programs\\Python\\Python311\\Lib\\site-packages\\ipykernel\\kernelbase.py\", line 502, in process_one\n      await dispatch(*args)\n    File \"C:\\Users\\Lenovo\\AppData\\Local\\Programs\\Python\\Python311\\Lib\\site-packages\\ipykernel\\kernelbase.py\", line 409, in dispatch_shell\n      await result\n    File \"C:\\Users\\Lenovo\\AppData\\Local\\Programs\\Python\\Python311\\Lib\\site-packages\\ipykernel\\kernelbase.py\", line 729, in execute_request\n      reply_content = await reply_content\n    File \"C:\\Users\\Lenovo\\AppData\\Local\\Programs\\Python\\Python311\\Lib\\site-packages\\ipykernel\\ipkernel.py\", line 422, in do_execute\n      res = shell.run_cell(\n    File \"C:\\Users\\Lenovo\\AppData\\Local\\Programs\\Python\\Python311\\Lib\\site-packages\\ipykernel\\zmqshell.py\", line 540, in run_cell\n      return super().run_cell(*args, **kwargs)\n    File \"C:\\Users\\Lenovo\\AppData\\Local\\Programs\\Python\\Python311\\Lib\\site-packages\\IPython\\core\\interactiveshell.py\", line 2961, in run_cell\n      result = self._run_cell(\n    File \"C:\\Users\\Lenovo\\AppData\\Local\\Programs\\Python\\Python311\\Lib\\site-packages\\IPython\\core\\interactiveshell.py\", line 3016, in _run_cell\n      result = runner(coro)\n    File \"C:\\Users\\Lenovo\\AppData\\Local\\Programs\\Python\\Python311\\Lib\\site-packages\\IPython\\core\\async_helpers.py\", line 129, in _pseudo_sync_runner\n      coro.send(None)\n    File \"C:\\Users\\Lenovo\\AppData\\Local\\Programs\\Python\\Python311\\Lib\\site-packages\\IPython\\core\\interactiveshell.py\", line 3221, in run_cell_async\n      has_raised = await self.run_ast_nodes(code_ast.body, cell_name,\n    File \"C:\\Users\\Lenovo\\AppData\\Local\\Programs\\Python\\Python311\\Lib\\site-packages\\IPython\\core\\interactiveshell.py\", line 3400, in run_ast_nodes\n      if await self.run_code(code, result, async_=asy):\n    File \"C:\\Users\\Lenovo\\AppData\\Local\\Programs\\Python\\Python311\\Lib\\site-packages\\IPython\\core\\interactiveshell.py\", line 3460, in run_code\n      exec(code_obj, self.user_global_ns, self.user_ns)\n    File \"C:\\Users\\Lenovo\\AppData\\Local\\Temp\\ipykernel_13944\\3936031482.py\", line 2, in <module>\n      prediction(path)\n    File \"C:\\Users\\Lenovo\\AppData\\Local\\Temp\\ipykernel_13944\\3049588610.py\", line 10, in prediction\n      pred= model.predict(im)\n    File \"C:\\Users\\Lenovo\\AppData\\Local\\Programs\\Python\\Python311\\Lib\\site-packages\\keras\\utils\\traceback_utils.py\", line 65, in error_handler\n      return fn(*args, **kwargs)\n    File \"C:\\Users\\Lenovo\\AppData\\Local\\Programs\\Python\\Python311\\Lib\\site-packages\\keras\\engine\\training.py\", line 2382, in predict\n      tmp_batch_outputs = self.predict_function(iterator)\n    File \"C:\\Users\\Lenovo\\AppData\\Local\\Programs\\Python\\Python311\\Lib\\site-packages\\keras\\engine\\training.py\", line 2169, in predict_function\n      return step_function(self, iterator)\n    File \"C:\\Users\\Lenovo\\AppData\\Local\\Programs\\Python\\Python311\\Lib\\site-packages\\keras\\engine\\training.py\", line 2155, in step_function\n      outputs = model.distribute_strategy.run(run_step, args=(data,))\n    File \"C:\\Users\\Lenovo\\AppData\\Local\\Programs\\Python\\Python311\\Lib\\site-packages\\keras\\engine\\training.py\", line 2143, in run_step\n      outputs = model.predict_step(data)\n    File \"C:\\Users\\Lenovo\\AppData\\Local\\Programs\\Python\\Python311\\Lib\\site-packages\\keras\\engine\\training.py\", line 2111, in predict_step\n      return self(x, training=False)\n    File \"C:\\Users\\Lenovo\\AppData\\Local\\Programs\\Python\\Python311\\Lib\\site-packages\\keras\\utils\\traceback_utils.py\", line 65, in error_handler\n      return fn(*args, **kwargs)\n    File \"C:\\Users\\Lenovo\\AppData\\Local\\Programs\\Python\\Python311\\Lib\\site-packages\\keras\\engine\\training.py\", line 558, in __call__\n      return super().__call__(*args, **kwargs)\n    File \"C:\\Users\\Lenovo\\AppData\\Local\\Programs\\Python\\Python311\\Lib\\site-packages\\keras\\utils\\traceback_utils.py\", line 65, in error_handler\n      return fn(*args, **kwargs)\n    File \"C:\\Users\\Lenovo\\AppData\\Local\\Programs\\Python\\Python311\\Lib\\site-packages\\keras\\engine\\base_layer.py\", line 1145, in __call__\n      outputs = call_fn(inputs, *args, **kwargs)\n    File \"C:\\Users\\Lenovo\\AppData\\Local\\Programs\\Python\\Python311\\Lib\\site-packages\\keras\\utils\\traceback_utils.py\", line 96, in error_handler\n      return fn(*args, **kwargs)\n    File \"C:\\Users\\Lenovo\\AppData\\Local\\Programs\\Python\\Python311\\Lib\\site-packages\\keras\\engine\\functional.py\", line 512, in call\n      return self._run_internal_graph(inputs, training=training, mask=mask)\n    File \"C:\\Users\\Lenovo\\AppData\\Local\\Programs\\Python\\Python311\\Lib\\site-packages\\keras\\engine\\functional.py\", line 669, in _run_internal_graph\n      outputs = node.layer(*args, **kwargs)\n    File \"C:\\Users\\Lenovo\\AppData\\Local\\Programs\\Python\\Python311\\Lib\\site-packages\\keras\\utils\\traceback_utils.py\", line 65, in error_handler\n      return fn(*args, **kwargs)\n    File \"C:\\Users\\Lenovo\\AppData\\Local\\Programs\\Python\\Python311\\Lib\\site-packages\\keras\\engine\\base_layer.py\", line 1145, in __call__\n      outputs = call_fn(inputs, *args, **kwargs)\n    File \"C:\\Users\\Lenovo\\AppData\\Local\\Programs\\Python\\Python311\\Lib\\site-packages\\keras\\utils\\traceback_utils.py\", line 96, in error_handler\n      return fn(*args, **kwargs)\n    File \"C:\\Users\\Lenovo\\AppData\\Local\\Programs\\Python\\Python311\\Lib\\site-packages\\keras\\layers\\convolutional\\base_conv.py\", line 321, in call\n      return self.activation(outputs)\n    File \"C:\\Users\\Lenovo\\AppData\\Local\\Programs\\Python\\Python311\\Lib\\site-packages\\keras\\activations.py\", line 317, in relu\n      return backend.relu(\n    File \"C:\\Users\\Lenovo\\AppData\\Local\\Programs\\Python\\Python311\\Lib\\site-packages\\keras\\backend.py\", line 5396, in relu\n      x = tf.nn.relu(x)\nNode: 'model/block1_conv1/Relu'\nconvolution input must be 4-dimensional: [32,180,3]\n\t [[{{node model/block1_conv1/Relu}}]] [Op:__inference_predict_function_8434]",
     "output_type": "error",
     "traceback": [
      "\u001b[1;31m---------------------------------------------------------------------------\u001b[0m",
      "\u001b[1;31mInvalidArgumentError\u001b[0m                      Traceback (most recent call last)",
      "Cell \u001b[1;32mIn[84], line 2\u001b[0m\n\u001b[0;32m      1\u001b[0m path \u001b[38;5;241m=\u001b[39m \u001b[38;5;124m'\u001b[39m\u001b[38;5;124m./TEST/Gerbera_Fresh_Leaf/Gerbera_Fresh_Leaf (1).jpg\u001b[39m\u001b[38;5;124m'\u001b[39m\n\u001b[1;32m----> 2\u001b[0m \u001b[43mprediction\u001b[49m\u001b[43m(\u001b[49m\u001b[43mpath\u001b[49m\u001b[43m)\u001b[49m\n",
      "Cell \u001b[1;32mIn[83], line 10\u001b[0m, in \u001b[0;36mprediction\u001b[1;34m(path)\u001b[0m\n\u001b[0;32m      8\u001b[0m im \u001b[38;5;241m=\u001b[39m preprocess_input(i)\n\u001b[0;32m      9\u001b[0m img \u001b[38;5;241m=\u001b[39m np\u001b[38;5;241m.\u001b[39mexpand_dims(im, axis\u001b[38;5;241m=\u001b[39m\u001b[38;5;241m0\u001b[39m)\n\u001b[1;32m---> 10\u001b[0m pred\u001b[38;5;241m=\u001b[39m \u001b[43mmodel\u001b[49m\u001b[38;5;241;43m.\u001b[39;49m\u001b[43mpredict\u001b[49m\u001b[43m(\u001b[49m\u001b[43mim\u001b[49m\u001b[43m)\u001b[49m\n\u001b[0;32m     11\u001b[0m predicted_class \u001b[38;5;241m=\u001b[39m class_names[np\u001b[38;5;241m.\u001b[39margmax(pred[\u001b[38;5;241m0\u001b[39m])]\n\u001b[0;32m     12\u001b[0m confidence \u001b[38;5;241m=\u001b[39m \u001b[38;5;28mround\u001b[39m(\u001b[38;5;241m100\u001b[39m \u001b[38;5;241m*\u001b[39m (np\u001b[38;5;241m.\u001b[39mmax(predictions[\u001b[38;5;241m0\u001b[39m])), \u001b[38;5;241m2\u001b[39m)\n",
      "File \u001b[1;32m~\\AppData\\Local\\Programs\\Python\\Python311\\Lib\\site-packages\\keras\\utils\\traceback_utils.py:70\u001b[0m, in \u001b[0;36mfilter_traceback.<locals>.error_handler\u001b[1;34m(*args, **kwargs)\u001b[0m\n\u001b[0;32m     67\u001b[0m     filtered_tb \u001b[38;5;241m=\u001b[39m _process_traceback_frames(e\u001b[38;5;241m.\u001b[39m__traceback__)\n\u001b[0;32m     68\u001b[0m     \u001b[38;5;66;03m# To get the full stack trace, call:\u001b[39;00m\n\u001b[0;32m     69\u001b[0m     \u001b[38;5;66;03m# `tf.debugging.disable_traceback_filtering()`\u001b[39;00m\n\u001b[1;32m---> 70\u001b[0m     \u001b[38;5;28;01mraise\u001b[39;00m e\u001b[38;5;241m.\u001b[39mwith_traceback(filtered_tb) \u001b[38;5;28;01mfrom\u001b[39;00m \u001b[38;5;28mNone\u001b[39m\n\u001b[0;32m     71\u001b[0m \u001b[38;5;28;01mfinally\u001b[39;00m:\n\u001b[0;32m     72\u001b[0m     \u001b[38;5;28;01mdel\u001b[39;00m filtered_tb\n",
      "File \u001b[1;32m~\\AppData\\Local\\Programs\\Python\\Python311\\Lib\\site-packages\\tensorflow\\python\\eager\\execute.py:52\u001b[0m, in \u001b[0;36mquick_execute\u001b[1;34m(op_name, num_outputs, inputs, attrs, ctx, name)\u001b[0m\n\u001b[0;32m     50\u001b[0m \u001b[38;5;28;01mtry\u001b[39;00m:\n\u001b[0;32m     51\u001b[0m   ctx\u001b[38;5;241m.\u001b[39mensure_initialized()\n\u001b[1;32m---> 52\u001b[0m   tensors \u001b[38;5;241m=\u001b[39m pywrap_tfe\u001b[38;5;241m.\u001b[39mTFE_Py_Execute(ctx\u001b[38;5;241m.\u001b[39m_handle, device_name, op_name,\n\u001b[0;32m     53\u001b[0m                                       inputs, attrs, num_outputs)\n\u001b[0;32m     54\u001b[0m \u001b[38;5;28;01mexcept\u001b[39;00m core\u001b[38;5;241m.\u001b[39m_NotOkStatusException \u001b[38;5;28;01mas\u001b[39;00m e:\n\u001b[0;32m     55\u001b[0m   \u001b[38;5;28;01mif\u001b[39;00m name \u001b[38;5;129;01mis\u001b[39;00m \u001b[38;5;129;01mnot\u001b[39;00m \u001b[38;5;28;01mNone\u001b[39;00m:\n",
      "\u001b[1;31mInvalidArgumentError\u001b[0m: Graph execution error:\n\nDetected at node 'model/block1_conv1/Relu' defined at (most recent call last):\n    File \"<frozen runpy>\", line 198, in _run_module_as_main\n    File \"<frozen runpy>\", line 88, in _run_code\n    File \"C:\\Users\\Lenovo\\AppData\\Local\\Programs\\Python\\Python311\\Lib\\site-packages\\ipykernel_launcher.py\", line 17, in <module>\n      app.launch_new_instance()\n    File \"C:\\Users\\Lenovo\\AppData\\Local\\Programs\\Python\\Python311\\Lib\\site-packages\\traitlets\\config\\application.py\", line 1043, in launch_instance\n      app.start()\n    File \"C:\\Users\\Lenovo\\AppData\\Local\\Programs\\Python\\Python311\\Lib\\site-packages\\ipykernel\\kernelapp.py\", line 725, in start\n      self.io_loop.start()\n    File \"C:\\Users\\Lenovo\\AppData\\Local\\Programs\\Python\\Python311\\Lib\\site-packages\\tornado\\platform\\asyncio.py\", line 215, in start\n      self.asyncio_loop.run_forever()\n    File \"C:\\Users\\Lenovo\\AppData\\Local\\Programs\\Python\\Python311\\Lib\\asyncio\\base_events.py\", line 607, in run_forever\n      self._run_once()\n    File \"C:\\Users\\Lenovo\\AppData\\Local\\Programs\\Python\\Python311\\Lib\\asyncio\\base_events.py\", line 1922, in _run_once\n      handle._run()\n    File \"C:\\Users\\Lenovo\\AppData\\Local\\Programs\\Python\\Python311\\Lib\\asyncio\\events.py\", line 80, in _run\n      self._context.run(self._callback, *self._args)\n    File \"C:\\Users\\Lenovo\\AppData\\Local\\Programs\\Python\\Python311\\Lib\\site-packages\\ipykernel\\kernelbase.py\", line 513, in dispatch_queue\n      await self.process_one()\n    File \"C:\\Users\\Lenovo\\AppData\\Local\\Programs\\Python\\Python311\\Lib\\site-packages\\ipykernel\\kernelbase.py\", line 502, in process_one\n      await dispatch(*args)\n    File \"C:\\Users\\Lenovo\\AppData\\Local\\Programs\\Python\\Python311\\Lib\\site-packages\\ipykernel\\kernelbase.py\", line 409, in dispatch_shell\n      await result\n    File \"C:\\Users\\Lenovo\\AppData\\Local\\Programs\\Python\\Python311\\Lib\\site-packages\\ipykernel\\kernelbase.py\", line 729, in execute_request\n      reply_content = await reply_content\n    File \"C:\\Users\\Lenovo\\AppData\\Local\\Programs\\Python\\Python311\\Lib\\site-packages\\ipykernel\\ipkernel.py\", line 422, in do_execute\n      res = shell.run_cell(\n    File \"C:\\Users\\Lenovo\\AppData\\Local\\Programs\\Python\\Python311\\Lib\\site-packages\\ipykernel\\zmqshell.py\", line 540, in run_cell\n      return super().run_cell(*args, **kwargs)\n    File \"C:\\Users\\Lenovo\\AppData\\Local\\Programs\\Python\\Python311\\Lib\\site-packages\\IPython\\core\\interactiveshell.py\", line 2961, in run_cell\n      result = self._run_cell(\n    File \"C:\\Users\\Lenovo\\AppData\\Local\\Programs\\Python\\Python311\\Lib\\site-packages\\IPython\\core\\interactiveshell.py\", line 3016, in _run_cell\n      result = runner(coro)\n    File \"C:\\Users\\Lenovo\\AppData\\Local\\Programs\\Python\\Python311\\Lib\\site-packages\\IPython\\core\\async_helpers.py\", line 129, in _pseudo_sync_runner\n      coro.send(None)\n    File \"C:\\Users\\Lenovo\\AppData\\Local\\Programs\\Python\\Python311\\Lib\\site-packages\\IPython\\core\\interactiveshell.py\", line 3221, in run_cell_async\n      has_raised = await self.run_ast_nodes(code_ast.body, cell_name,\n    File \"C:\\Users\\Lenovo\\AppData\\Local\\Programs\\Python\\Python311\\Lib\\site-packages\\IPython\\core\\interactiveshell.py\", line 3400, in run_ast_nodes\n      if await self.run_code(code, result, async_=asy):\n    File \"C:\\Users\\Lenovo\\AppData\\Local\\Programs\\Python\\Python311\\Lib\\site-packages\\IPython\\core\\interactiveshell.py\", line 3460, in run_code\n      exec(code_obj, self.user_global_ns, self.user_ns)\n    File \"C:\\Users\\Lenovo\\AppData\\Local\\Temp\\ipykernel_13944\\3936031482.py\", line 2, in <module>\n      prediction(path)\n    File \"C:\\Users\\Lenovo\\AppData\\Local\\Temp\\ipykernel_13944\\3049588610.py\", line 10, in prediction\n      pred= model.predict(im)\n    File \"C:\\Users\\Lenovo\\AppData\\Local\\Programs\\Python\\Python311\\Lib\\site-packages\\keras\\utils\\traceback_utils.py\", line 65, in error_handler\n      return fn(*args, **kwargs)\n    File \"C:\\Users\\Lenovo\\AppData\\Local\\Programs\\Python\\Python311\\Lib\\site-packages\\keras\\engine\\training.py\", line 2382, in predict\n      tmp_batch_outputs = self.predict_function(iterator)\n    File \"C:\\Users\\Lenovo\\AppData\\Local\\Programs\\Python\\Python311\\Lib\\site-packages\\keras\\engine\\training.py\", line 2169, in predict_function\n      return step_function(self, iterator)\n    File \"C:\\Users\\Lenovo\\AppData\\Local\\Programs\\Python\\Python311\\Lib\\site-packages\\keras\\engine\\training.py\", line 2155, in step_function\n      outputs = model.distribute_strategy.run(run_step, args=(data,))\n    File \"C:\\Users\\Lenovo\\AppData\\Local\\Programs\\Python\\Python311\\Lib\\site-packages\\keras\\engine\\training.py\", line 2143, in run_step\n      outputs = model.predict_step(data)\n    File \"C:\\Users\\Lenovo\\AppData\\Local\\Programs\\Python\\Python311\\Lib\\site-packages\\keras\\engine\\training.py\", line 2111, in predict_step\n      return self(x, training=False)\n    File \"C:\\Users\\Lenovo\\AppData\\Local\\Programs\\Python\\Python311\\Lib\\site-packages\\keras\\utils\\traceback_utils.py\", line 65, in error_handler\n      return fn(*args, **kwargs)\n    File \"C:\\Users\\Lenovo\\AppData\\Local\\Programs\\Python\\Python311\\Lib\\site-packages\\keras\\engine\\training.py\", line 558, in __call__\n      return super().__call__(*args, **kwargs)\n    File \"C:\\Users\\Lenovo\\AppData\\Local\\Programs\\Python\\Python311\\Lib\\site-packages\\keras\\utils\\traceback_utils.py\", line 65, in error_handler\n      return fn(*args, **kwargs)\n    File \"C:\\Users\\Lenovo\\AppData\\Local\\Programs\\Python\\Python311\\Lib\\site-packages\\keras\\engine\\base_layer.py\", line 1145, in __call__\n      outputs = call_fn(inputs, *args, **kwargs)\n    File \"C:\\Users\\Lenovo\\AppData\\Local\\Programs\\Python\\Python311\\Lib\\site-packages\\keras\\utils\\traceback_utils.py\", line 96, in error_handler\n      return fn(*args, **kwargs)\n    File \"C:\\Users\\Lenovo\\AppData\\Local\\Programs\\Python\\Python311\\Lib\\site-packages\\keras\\engine\\functional.py\", line 512, in call\n      return self._run_internal_graph(inputs, training=training, mask=mask)\n    File \"C:\\Users\\Lenovo\\AppData\\Local\\Programs\\Python\\Python311\\Lib\\site-packages\\keras\\engine\\functional.py\", line 669, in _run_internal_graph\n      outputs = node.layer(*args, **kwargs)\n    File \"C:\\Users\\Lenovo\\AppData\\Local\\Programs\\Python\\Python311\\Lib\\site-packages\\keras\\utils\\traceback_utils.py\", line 65, in error_handler\n      return fn(*args, **kwargs)\n    File \"C:\\Users\\Lenovo\\AppData\\Local\\Programs\\Python\\Python311\\Lib\\site-packages\\keras\\engine\\base_layer.py\", line 1145, in __call__\n      outputs = call_fn(inputs, *args, **kwargs)\n    File \"C:\\Users\\Lenovo\\AppData\\Local\\Programs\\Python\\Python311\\Lib\\site-packages\\keras\\utils\\traceback_utils.py\", line 96, in error_handler\n      return fn(*args, **kwargs)\n    File \"C:\\Users\\Lenovo\\AppData\\Local\\Programs\\Python\\Python311\\Lib\\site-packages\\keras\\layers\\convolutional\\base_conv.py\", line 321, in call\n      return self.activation(outputs)\n    File \"C:\\Users\\Lenovo\\AppData\\Local\\Programs\\Python\\Python311\\Lib\\site-packages\\keras\\activations.py\", line 317, in relu\n      return backend.relu(\n    File \"C:\\Users\\Lenovo\\AppData\\Local\\Programs\\Python\\Python311\\Lib\\site-packages\\keras\\backend.py\", line 5396, in relu\n      x = tf.nn.relu(x)\nNode: 'model/block1_conv1/Relu'\nconvolution input must be 4-dimensional: [32,180,3]\n\t [[{{node model/block1_conv1/Relu}}]] [Op:__inference_predict_function_8434]"
     ]
    }
   ],
   "source": [
    "path = './TEST/Gerbera_Fresh_Leaf/Gerbera_Fresh_Leaf (1).jpg'\n",
    "prediction(path)"
   ]
  },
  {
   "cell_type": "code",
   "execution_count": null,
   "id": "5a5ea2c0",
   "metadata": {},
   "outputs": [],
   "source": []
  }
 ],
 "metadata": {
  "kernelspec": {
   "display_name": "Python 3 (ipykernel)",
   "language": "python",
   "name": "python3"
  },
  "language_info": {
   "codemirror_mode": {
    "name": "ipython",
    "version": 3
   },
   "file_extension": ".py",
   "mimetype": "text/x-python",
   "name": "python",
   "nbconvert_exporter": "python",
   "pygments_lexer": "ipython3",
   "version": "3.11.3"
  }
 },
 "nbformat": 4,
 "nbformat_minor": 5
}
